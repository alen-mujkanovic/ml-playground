{
 "cells": [
  {
   "cell_type": "markdown",
   "metadata": {},
   "source": [
    "### Evaluate variables."
   ]
  },
  {
   "cell_type": "code",
   "execution_count": null,
   "metadata": {},
   "outputs": [],
   "source": [
    "%clear -f\n",
    "import keras.backend as K\n",
    "\n",
    "x = K.variable(42.)\n",
    "\n",
    "# Solution 1:\n",
    "sess = K.get_session()\n",
    "print sess.run(x)\n",
    "\n",
    "# Solution 2:\n",
    "print K.eval(x)"
   ]
  },
  {
   "cell_type": "markdown",
   "metadata": {},
   "source": [
    "### Feed placeholders and evaluate functions."
   ]
  },
  {
   "cell_type": "code",
   "execution_count": null,
   "metadata": {},
   "outputs": [],
   "source": [
    "%clear -f\n",
    "import keras.backend as K\n",
    "\n",
    "x = K.placeholder(ndim=1)\n",
    "y = 2 * x\n",
    "feed = np.array([2])\n",
    "\n",
    "# Solution 1:\n",
    "sess = K.get_session()\n",
    "print sess.run(y, { x : feed})\n",
    "\n",
    "# Solution 2 (general for tensorflow and theano):\n",
    "f = K.function([x], [y])\n",
    "print f([feed])[0]"
   ]
  },
  {
   "cell_type": "markdown",
   "metadata": {},
   "source": [
    "### Compute custom gradients."
   ]
  },
  {
   "cell_type": "code",
   "execution_count": 27,
   "metadata": {
    "scrolled": true
   },
   "outputs": [
    {
     "name": "stdout",
     "output_type": "stream",
     "text": [
      "\u001b[H\u001b[2JOur model is y = 3 * x1 + 2 * x2\n",
      "Data generated.\n",
      "Before training:\n",
      "dy_dx =  [[-0.60748106  0.92611754]] , w =  [[-0.60748106  0.92611754]]\n",
      "\n",
      "After training:\n",
      "dy_dx =  [[ 3.00000048  1.99999976]] , w =  [[ 3.00000048  1.99999976]]\n",
      "\n",
      "dJ_dw (should be around 0):\n",
      "[[  1.88174570e-04   8.23366136e-05]]\n"
     ]
    }
   ],
   "source": [
    "%clear -f\n",
    "import numpy as np\n",
    "import keras.backend as K\n",
    "from keras.layers import Input, Dense, Activation\n",
    "from keras.models import Model\n",
    "from keras import optimizers, losses\n",
    "\n",
    "# Define the model and generate the data.\n",
    "print \"Our model is y = 3 * x1 + 2 * x2\"\n",
    "num_data = 1000\n",
    "x_train = np.random.rand(num_data, 2)\n",
    "y_train = x_train * np.matrix([[3], [2]])\n",
    "print \"Data generated.\"\n",
    "x = Input(shape=(2,), name='x')\n",
    "y = Dense(1, activation='linear', use_bias=False)(x)\n",
    "model = Model(inputs=x, outputs=y)\n",
    "\n",
    "opt = optimizers.Adam(0.1)\n",
    "loss = losses.mean_squared_error\n",
    "\n",
    "model.compile(opt, loss)\n",
    "\n",
    "# Retreive the handle to trainable weights, which should be equal to the dy_dx.\n",
    "w = model.trainable_weights[0]\n",
    "\n",
    "dy_dx = K.gradients(y, x) \n",
    "f = K.function(inputs=[x], outputs=dy_dx)\n",
    "fx = f([np.ones([1, 2])])[0]  # Input is irrelevant, since we are computing the gradient of a linear function.\n",
    "print \"Before training:\"\n",
    "print \"dy_dx = \", fx, \", w = \", K.eval(w).T \n",
    "model.fit(x_train, y_train, epochs=500, batch_size=num_data, verbose=0)\n",
    "print \"\\nAfter training:\"\n",
    "print \"dy_dx = \", f([np.ones([1, 2])])[0], \", w = \", K.eval(w).T \n",
    "\n",
    "# Calculate the gradient manually.\n",
    "y_true = K.placeholder(shape=(None, 1))\n",
    "dJ_dw = K.gradients(loss(y, y_true), w) \n",
    "f = K.function(inputs=[x, y_true], outputs=dJ_dw)\n",
    "\n",
    "print \"\\ndJ_dw (should be around 0):\"\n",
    "print f([x_train, y_train])[0].T"
   ]
  },
  {
   "cell_type": "markdown",
   "metadata": {},
   "source": [
    "### Pass a custom gradient to the optimizer."
   ]
  },
  {
   "cell_type": "code",
   "execution_count": 51,
   "metadata": {},
   "outputs": [
    {
     "name": "stdout",
     "output_type": "stream",
     "text": [
      "\u001b[H\u001b[2JOur model is y = 3 * x1 + 2 * x2 + 5\n",
      "Data generated.\n",
      "Initial weights: [array([[-0.52793747, -1.14754939]], dtype=float32), array([ 0.], dtype=float32)]\n",
      "\n",
      "First approach:\n",
      "Optimized weights: [array([[ 3.00197625,  2.00161314]], dtype=float32), array([ 4.99804544], dtype=float32)]\n",
      "\n",
      "Restored weights: [array([[-0.52793747, -1.14754939]], dtype=float32), array([ 0.], dtype=float32)]\n",
      "\n",
      "Second approach:\n",
      "Optimized weights: [array([[ 3.00096726,  2.00076246]], dtype=float32), array([ 4.99905729], dtype=float32)]\n"
     ]
    }
   ],
   "source": [
    "%clear -f\n",
    "import tensorflow as tf\n",
    "import numpy as np\n",
    "import keras.backend as K\n",
    "from keras.layers import Input, Dense, Activation\n",
    "from keras.models import Model\n",
    "from keras import optimizers, losses\n",
    "\n",
    "# Define the model and generate the data.\n",
    "print \"Our model is y = 3 * x1 + 2 * x2 + 5\"\n",
    "num_data = 1000\n",
    "x_train = np.random.rand(num_data, 2)\n",
    "y_train = x_train * np.matrix([[3], [2]]) + 5\n",
    "print \"Data generated.\"\n",
    "x = Input(shape=(2,), name='x')\n",
    "y = Dense(1, activation='linear')(x)\n",
    "model = Model(inputs=x, outputs=y)\n",
    "\n",
    "# Retreive the handle to trainable weights. In this case it is a list of variables [W, b].\n",
    "w = model.trainable_weights\n",
    "store_w = {l: l.get_weights() for l in model.layers}\n",
    "\n",
    "print \"Initial weights:\", [K.eval(i).T for i in w]\n",
    "\n",
    "# opt = optimizers.Adam(0.1)\n",
    "opt = tf.train.AdamOptimizer(0.1)\n",
    "# Output placeholder is needed for to define the loss.\n",
    "y_true = K.placeholder(shape=(None, 1))\n",
    "loss = losses.mean_squared_error(y, y_true)\n",
    "\n",
    "grads_and_vars = zip(tf.gradients(loss, w), w)\n",
    "op = opt.apply_gradients(grads_and_vars)\n",
    "\n",
    "print \"\\nFirst approach:\"\n",
    "f = K.function(inputs=[x, y_true], outputs=[op])\n",
    "for i in range(1000):\n",
    "    f([x_train, y_train])\n",
    "    \n",
    "print \"Optimized weights:\", [K.eval(i).T for i in w]\n",
    "\n",
    "# Restore weights from beginning:\n",
    "for l in model.layers:\n",
    "    l.set_weights(store_w[l])\n",
    "print \"\\nRestored weights:\", [K.eval(i).T for i in w]\n",
    "\n",
    "print \"\\nSecond approach:\"\n",
    "sess = K.get_session()\n",
    "sess.run(tf.global_variables_initializer())\n",
    "for i in range(1000):\n",
    "    sess.run(op, {x : x_train, y_true : y_train})\n",
    "    \n",
    "print \"Optimized weights:\", [K.eval(i).T for i in w]"
   ]
  }
 ],
 "metadata": {
  "kernelspec": {
   "display_name": "Python 2",
   "language": "python",
   "name": "python2"
  },
  "language_info": {
   "codemirror_mode": {
    "name": "ipython",
    "version": 2
   },
   "file_extension": ".py",
   "mimetype": "text/x-python",
   "name": "python",
   "nbconvert_exporter": "python",
   "pygments_lexer": "ipython2",
   "version": "2.7.6"
  }
 },
 "nbformat": 4,
 "nbformat_minor": 2
}
