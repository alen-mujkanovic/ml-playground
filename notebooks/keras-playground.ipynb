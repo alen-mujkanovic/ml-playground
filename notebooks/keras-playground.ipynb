{
 "cells": [
  {
   "cell_type": "markdown",
   "metadata": {},
   "source": [
    "# Tinkering with Keras\n",
    "\n",
    "The goal of this notebook is to store useful insights made through my learning process of [Keras](https://keras.io/). Since I will be closely working with a colleague who uses Theano, the idea is to try to implement all the functionalities to work seamlessly with both backends. \n",
    "\n",
    "Below are shown some of the functionalities that I found imperceptible from the official documentation."
   ]
  },
  {
   "cell_type": "markdown",
   "metadata": {},
   "source": [
    "### Evaluate variables."
   ]
  },
  {
   "cell_type": "code",
   "execution_count": 1,
   "metadata": {
    "scrolled": true
   },
   "outputs": [
    {
     "name": "stdout",
     "output_type": "stream",
     "text": [
      "\u001b[H\u001b[2J"
     ]
    },
    {
     "name": "stderr",
     "output_type": "stream",
     "text": [
      "Using TensorFlow backend.\n"
     ]
    },
    {
     "name": "stdout",
     "output_type": "stream",
     "text": [
      "42.0\n",
      "42.0\n"
     ]
    }
   ],
   "source": [
    "%clear -f\n",
    "import keras.backend as K\n",
    "\n",
    "x = K.variable(42.)\n",
    "\n",
    "# Solution 1:\n",
    "sess = K.get_session()\n",
    "print sess.run(x)\n",
    "\n",
    "# Solution 2:\n",
    "print K.eval(x)"
   ]
  },
  {
   "cell_type": "markdown",
   "metadata": {},
   "source": [
    "### Feed placeholders and evaluate functions."
   ]
  },
  {
   "cell_type": "code",
   "execution_count": 2,
   "metadata": {},
   "outputs": [
    {
     "name": "stdout",
     "output_type": "stream",
     "text": [
      "\u001b[H\u001b[2J[ 4.]\n",
      "[ 4.]\n"
     ]
    }
   ],
   "source": [
    "%clear -f\n",
    "import keras.backend as K\n",
    "import numpy as np\n",
    "\n",
    "x = K.placeholder(ndim=1)\n",
    "y = 2 * x\n",
    "feed = np.array([2])\n",
    "\n",
    "# Solution 1:\n",
    "sess = K.get_session()\n",
    "print sess.run(y, { x : feed})\n",
    "\n",
    "# Solution 2 (general for tensorflow and theano):\n",
    "f = K.function([x], [y])\n",
    "print f([feed])[0]"
   ]
  },
  {
   "cell_type": "markdown",
   "metadata": {},
   "source": [
    "### Compute custom gradients."
   ]
  },
  {
   "cell_type": "code",
   "execution_count": 3,
   "metadata": {
    "scrolled": true
   },
   "outputs": [
    {
     "name": "stdout",
     "output_type": "stream",
     "text": [
      "\u001b[H\u001b[2JOur model is y = 3 * x1 + 2 * x2\n",
      "Data generated.\n",
      "Before training:\n",
      "dy_dx =  [[ 1.26315963 -0.31153429]] , w =  [[ 1.26315963 -0.31153429]]\n",
      "\n",
      "After training:\n",
      "dy_dx =  [[ 3.00000048  1.99999952]] , w =  [[ 3.00000048  1.99999952]]\n",
      "\n",
      "dJ_dw (should be around 0):\n",
      "[[  6.69475121e-05  -8.78117135e-05]]\n"
     ]
    }
   ],
   "source": [
    "%clear -f\n",
    "import numpy as np\n",
    "import keras.backend as K\n",
    "from keras.layers import Input, Dense, Activation\n",
    "from keras.models import Model\n",
    "from keras import optimizers, losses\n",
    "\n",
    "# Define the model and generate the data.\n",
    "print \"Our model is y = 3 * x1 + 2 * x2\"\n",
    "num_data = 1000\n",
    "x_train = np.random.rand(num_data, 2)\n",
    "y_train = x_train * np.matrix([[3], [2]])\n",
    "print \"Data generated.\"\n",
    "x = Input(shape=(2,), name='x')\n",
    "y = Dense(1, activation='linear', use_bias=False)(x)\n",
    "model = Model(inputs=x, outputs=y)\n",
    "\n",
    "opt = optimizers.Adam(0.1)\n",
    "loss = losses.mean_squared_error\n",
    "\n",
    "model.compile(opt, loss)\n",
    "\n",
    "# Retreive the handle to trainable weights, which should be equal to the dy_dx.\n",
    "w = model.trainable_weights[0]\n",
    "\n",
    "dy_dx = K.gradients(y, x) \n",
    "f = K.function(inputs=[x], outputs=dy_dx)\n",
    "fx = f([np.ones([1, 2])])[0]  # Input is irrelevant, since we are computing the gradient of a linear function.\n",
    "print \"Before training:\"\n",
    "print \"dy_dx = \", fx, \", w = \", K.eval(w).T \n",
    "model.fit(x_train, y_train, epochs=500, batch_size=num_data, verbose=0)\n",
    "print \"\\nAfter training:\"\n",
    "print \"dy_dx = \", f([np.ones([1, 2])])[0], \", w = \", K.eval(w).T \n",
    "\n",
    "# Calculate the gradient manually.\n",
    "y_true = K.placeholder(shape=(None, 1))\n",
    "dJ_dw = K.gradients(loss(y, y_true), w) \n",
    "f = K.function(inputs=[x, y_true], outputs=dJ_dw)\n",
    "\n",
    "print \"\\ndJ_dw (should be around 0):\"\n",
    "print f([x_train, y_train])[0].T"
   ]
  },
  {
   "cell_type": "markdown",
   "metadata": {},
   "source": [
    "### Pass a custom gradient to the optimizer."
   ]
  },
  {
   "cell_type": "code",
   "execution_count": 4,
   "metadata": {
    "scrolled": false
   },
   "outputs": [
    {
     "name": "stdout",
     "output_type": "stream",
     "text": [
      "\u001b[H\u001b[2JOur model is y = 3 * x1 + 2 * x2 + 5\n",
      "Data generated.\n",
      "Initial weights: [array([[-0.4852097 , -0.37274027]], dtype=float32), array([ 0.], dtype=float32)]\n",
      "\n",
      "First approach:\n",
      "Optimized weights: [array([[ 3.00106549,  2.00087857]], dtype=float32), array([ 4.99894285], dtype=float32)]\n",
      "\n",
      "Restored weights: [array([[-0.4852097 , -0.37274027]], dtype=float32), array([ 0.], dtype=float32)]\n",
      "\n",
      "Second approach:\n",
      "Optimized weights: [array([[ 3.0003345 ,  2.00028539]], dtype=float32), array([ 4.99966288], dtype=float32)]\n"
     ]
    }
   ],
   "source": [
    "%clear -f\n",
    "import tensorflow as tf\n",
    "import numpy as np\n",
    "import keras.backend as K\n",
    "from keras.layers import Input, Dense, Activation\n",
    "from keras.models import Model\n",
    "from keras import optimizers, losses\n",
    "\n",
    "# Define the model and generate the data.\n",
    "print \"Our model is y = 3 * x1 + 2 * x2 + 5\"\n",
    "num_data = 1000\n",
    "x_train = np.random.rand(num_data, 2)\n",
    "y_train = x_train * np.matrix([[3], [2]]) + 5\n",
    "print \"Data generated.\"\n",
    "x = Input(shape=(2,), name='x')\n",
    "y = Dense(1, activation='linear')(x)\n",
    "model = Model(inputs=x, outputs=y)\n",
    "\n",
    "# Retreive the handle to trainable weights. In this case it is a list of variables [W, b].\n",
    "w = model.trainable_weights\n",
    "store_w = {l: l.get_weights() for l in model.layers}\n",
    "\n",
    "print \"Initial weights:\", [K.eval(i).T for i in w]\n",
    "\n",
    "# opt = optimizers.Adam(0.1)\n",
    "opt = tf.train.AdamOptimizer(0.1)\n",
    "# Output placeholder is needed for to define the loss.\n",
    "y_true = K.placeholder(shape=(None, 1))\n",
    "loss = losses.mean_squared_error(y, y_true)\n",
    "\n",
    "grads_and_vars = zip(tf.gradients(loss, w), w)\n",
    "op = opt.apply_gradients(grads_and_vars)\n",
    "\n",
    "print \"\\nFirst approach:\"\n",
    "f = K.function(inputs=[x, y_true], outputs=[op])\n",
    "for i in range(1000):\n",
    "    f([x_train, y_train])\n",
    "    \n",
    "print \"Optimized weights:\", [K.eval(i).T for i in w]\n",
    "\n",
    "# Restore weights from beginning:\n",
    "for l in model.layers:\n",
    "    l.set_weights(store_w[l])\n",
    "print \"\\nRestored weights:\", [K.eval(i).T for i in w]\n",
    "\n",
    "print \"\\nSecond approach:\"\n",
    "sess = K.get_session()\n",
    "sess.run(tf.global_variables_initializer())\n",
    "for i in range(1000):\n",
    "    sess.run(op, {x : x_train, y_true : y_train})\n",
    "    \n",
    "print \"Optimized weights:\", [K.eval(i).T for i in w]"
   ]
  },
  {
   "cell_type": "markdown",
   "metadata": {},
   "source": [
    "### Concatenating two models and propagating the gradient."
   ]
  },
  {
   "cell_type": "code",
   "execution_count": 5,
   "metadata": {
    "scrolled": true
   },
   "outputs": [
    {
     "name": "stdout",
     "output_type": "stream",
     "text": [
      "\u001b[H\u001b[2J1. Model: y1 = x ** 2\n",
      "x =\n",
      "[[-0.04069059  0.6961755 ]\n",
      " [ 0.72781057 -1.4201087 ]]\n",
      "y =\n",
      "[[  1.65572413e-03   4.84660357e-01]\n",
      " [  5.29708207e-01   2.01670861e+00]]\n",
      "dy_dx =\n",
      "[[-0.08138118  1.39235103]\n",
      " [ 1.45562112 -2.84021735]]\n",
      "\n",
      "2. Model: y2 = 3 * x\n",
      "y2 =\n",
      "[[  1.65572413e-03   4.84660357e-01]\n",
      " [  5.29708207e-01   2.01670861e+00]]\n",
      "\n",
      "3. Model: z = y2 o y1\n",
      "z =\n",
      "[[  4.96717263e-03   1.45398104e+00]\n",
      " [  1.58912468e+00   6.05012608e+00]]\n",
      "dz_dx =\n",
      "[[-0.24414355  4.17705297]\n",
      " [ 4.36686325 -8.52065182]]\n",
      "6x =\n",
      "[[-0.24414354  4.177053  ]\n",
      " [ 4.3668634  -8.52065221]]\n"
     ]
    }
   ],
   "source": [
    "%clear -f\n",
    "import keras.backend as K\n",
    "from keras.layers import Input, Dense, Lambda\n",
    "from keras.models import Model\n",
    "import numpy as np\n",
    "\n",
    "x1 = Input(shape=(2,))\n",
    "y = Lambda(lambda x: x ** 2)(x1)\n",
    "grads1 = K.gradients(y, x1)\n",
    "f1 = K.function(inputs=[x1], outputs=grads1)\n",
    "model1 = Model(inputs=x1, outputs=y)\n",
    "\n",
    "x_feed = np.random.randn(2, 2)\n",
    "print \"1. Model: y1 = x ** 2\"\n",
    "print \"x =\\n\", x_feed\n",
    "print \"y =\\n\", model1.predict_on_batch(x_feed)\n",
    "print \"dy_dx =\\n\", f1([x_feed])[0]\n",
    "\n",
    "print \"\\n2. Model: y2 = 3 * x\"\n",
    "x2 = Input(shape=(3, ))\n",
    "y = Lambda(lambda x: 3 * x)(x2)\n",
    "grads2 = K.gradients(y, x2)\n",
    "f2 = K.function(inputs=[x2], outputs=grads2)\n",
    "model2 = Model(inputs=x2, outputs=y)\n",
    "print \"y2 =\\n\", model1.predict_on_batch(x_feed)\n",
    "\n",
    "print \"\\n3. Model: z = y2 o y1\"\n",
    "z = model2(model1.outputs)\n",
    "in1 = model1.inputs[0]\n",
    "f3 = K.function(inputs=[in1], outputs=[z])\n",
    "print \"z =\\n\", f3([x_feed])[0]\n",
    "grads3 = K.gradients(z, in1)\n",
    "f4 = K.function(inputs=[in1], outputs=grads3)\n",
    "print \"dz_dx =\\n\", f4([x_feed])[0]\n",
    "print \"6x =\\n\", 6 * x_feed"
   ]
  },
  {
   "cell_type": "markdown",
   "metadata": {},
   "source": [
    "### Optimizing a function by overloading get_gradients."
   ]
  },
  {
   "cell_type": "code",
   "execution_count": 6,
   "metadata": {},
   "outputs": [
    {
     "name": "stdout",
     "output_type": "stream",
     "text": [
      "\u001b[H\u001b[2JGoal is to find argmin_x x^2\n",
      "[[ 2.9000001]]\n",
      "[[ 1.92304862]]\n",
      "[[ 1.04193711]]\n",
      "[[ 0.36638322]]\n",
      "[[-0.03462526]]\n",
      "[[-0.17373246]]\n",
      "[[-0.14592846]]\n",
      "[[-0.06251189]]\n",
      "[[ 0.00176357]]\n",
      "[[ 0.02441011]]\n",
      "[[ 0.0181153]]\n",
      "[[ 0.00448429]]\n",
      "[[-0.00338163]]\n",
      "[[-0.00392191]]\n",
      "[[-0.00135186]]\n"
     ]
    }
   ],
   "source": [
    "%clear -f\n",
    "import keras.backend as K\n",
    "from keras.layers import Input, Lambda\n",
    "from keras import optimizers\n",
    "import numpy as np\n",
    "\n",
    "print \"Goal is to find argmin_x x^2\"\n",
    "x0 = 3 * np.ones([1, 1]) # For some reason needed as a two dimensional.\n",
    "print \"x0 = \", x0\n",
    "x = K.variable(value=x0)\n",
    "x_in = Input(shape=(1,))\n",
    "y = Lambda(lambda x: x ** 2)(x_in)\n",
    "\n",
    "opt = optimizers.Adam(0.1)\n",
    "\n",
    "def get_gradients(*unused):\n",
    "    return K.gradients(y, x_in)\n",
    "\n",
    "# This:\n",
    "opt.get_gradients = get_gradients\n",
    "updates = opt.get_updates([x], [], [])\n",
    "# or only: updates = opt.get_updates([x], [], [y])\n",
    "train_step = K.function(inputs=[x_in], outputs=[], updates=updates)\n",
    "for i in range(150):\n",
    "    train_step([K.eval(x)])\n",
    "    if i % 10 == 0:\n",
    "        print K.eval(x)"
   ]
  },
  {
   "cell_type": "markdown",
   "metadata": {},
   "source": [
    "### Optimizing a function only using get_updates."
   ]
  },
  {
   "cell_type": "code",
   "execution_count": 7,
   "metadata": {},
   "outputs": [
    {
     "name": "stdout",
     "output_type": "stream",
     "text": [
      "Goal is to find argmin_x (y - y_des)^2, where y = x^2\n",
      "[[ 2.9000001]]\n",
      "[[ 2.04072595]]\n",
      "[[ 1.70920289]]\n",
      "[[ 1.80661547]]\n",
      "[[ 2.01191854]]\n",
      "[[ 2.07260156]]\n",
      "[[ 2.00647259]]\n",
      "[[ 1.97366536]]\n",
      "[[ 1.99625564]]\n",
      "[[ 2.00946379]]\n",
      "[[ 2.00036621]]\n",
      "[[ 1.99657023]]\n",
      "[[ 2.00057054]]\n",
      "[[ 2.00106096]]\n",
      "[[ 1.99947584]]\n"
     ]
    }
   ],
   "source": [
    "import keras.backend as K\n",
    "from keras import optimizers, losses\n",
    "import numpy as np\n",
    "\n",
    "print \"Goal is to find argmin_x (y - y_des)^2, where y = x^2\"\n",
    "x0 = 3 * np.ones([1, 1])\n",
    "y_des = 4 * np.ones([1, 1])\n",
    "x = K.variable(value=x0)\n",
    "y = x ** 2\n",
    "\n",
    "opt = optimizers.Adam(0.1)\n",
    "\n",
    "y_var = K.placeholder(ndim=2)\n",
    "loss = losses.mean_squared_error(y, y_var)\n",
    "updates = opt.get_updates([x], [], [loss])\n",
    "train_step = K.function(inputs=[y_var], outputs=[], updates=updates)\n",
    "for i in range(150):\n",
    "    train_step([y_des])\n",
    "    if i % 10 == 0:\n",
    "        print K.eval(x)"
   ]
  }
 ],
 "metadata": {
  "kernelspec": {
   "display_name": "Python 2",
   "language": "python",
   "name": "python2"
  },
  "language_info": {
   "codemirror_mode": {
    "name": "ipython",
    "version": 2
   },
   "file_extension": ".py",
   "mimetype": "text/x-python",
   "name": "python",
   "nbconvert_exporter": "python",
   "pygments_lexer": "ipython2",
   "version": "2.7.12"
  }
 },
 "nbformat": 4,
 "nbformat_minor": 2
}
