{
 "cells": [
  {
   "cell_type": "code",
   "execution_count": 1,
   "metadata": {
    "collapsed": false,
    "deletable": true,
    "editable": true,
    "scrolled": true
   },
   "outputs": [
    {
     "name": "stderr",
     "output_type": "stream",
     "text": [
      "[2017-03-27 23:15:44,219] Making new env: FrozenLake-v0\n"
     ]
    },
    {
     "name": "stdout",
     "output_type": "stream",
     "text": [
      "Discrete(4)\n",
      "Discrete(16)\n"
     ]
    }
   ],
   "source": [
    "import gym\n",
    "from gym import wrappers\n",
    "import numpy as np\n",
    "from collections import deque\n",
    "\n",
    "env = gym.make('FrozenLake-v0')\n",
    "# env = wrappers.Monitor(env, '/tmp/frozen-lake', force=True)\n",
    "\n",
    "print env.action_space\n",
    "print env.observation_space\n",
    "\n",
    "on = env.observation_space.n\n",
    "an = env.action_space.n"
   ]
  },
  {
   "cell_type": "code",
   "execution_count": 2,
   "metadata": {
    "collapsed": false,
    "deletable": true,
    "editable": true,
    "scrolled": true
   },
   "outputs": [],
   "source": [
    "# Parameters.\n",
    "episodes = 3000\n",
    "gamma = 0.99\n",
    "alpha = 0.1\n",
    "eps = 0.8\n",
    "eps_decay = 0.995\n",
    "\n",
    "# Q function.\n",
    "Q = np.ones([on, an])"
   ]
  },
  {
   "cell_type": "code",
   "execution_count": 3,
   "metadata": {
    "collapsed": false,
    "deletable": true,
    "editable": true,
    "scrolled": true
   },
   "outputs": [
    {
     "name": "stdout",
     "output_type": "stream",
     "text": [
      "Finished!\n"
     ]
    }
   ],
   "source": [
    "history = deque(maxlen=200)\n",
    "r_history = deque(maxlen=100)\n",
    "means = []\n",
    "stds = []\n",
    "\n",
    "for ep in range(episodes + 1):\n",
    "    obs = env.reset()\n",
    "    done = False\n",
    "    while not done:\n",
    "        if np.random.uniform() <= eps:\n",
    "            act = env.action_space.sample()\n",
    "        else:\n",
    "            act = np.argmax(Q[obs])\n",
    "        obs_new, r, done, _ = env.step(act)\n",
    "        history.append([obs, act, obs_new, r])\n",
    "        obs = obs_new\n",
    "    \n",
    "    r_history.append(r)\n",
    "    means.append(np.mean(list(r_history)))\n",
    "    stds.append(np.std((r_history)))\n",
    "    # Ignore the last observation.\n",
    "    obs, act, obs_new, r = history.pop()\n",
    "    Q[obs, act] = (1.0 - alpha) * Q[obs, act] + alpha * r\n",
    "    while len(history):\n",
    "        obs, act, obs_new, r = history.pop()\n",
    "        Q[obs, act] = (1.0 - alpha) * Q[obs, act] + alpha * (r + gamma * np.max(Q[obs_new]))\n",
    "    eps = eps * eps_decay\n",
    "print \"Finished!\""
   ]
  },
  {
   "cell_type": "code",
   "execution_count": 4,
   "metadata": {
    "collapsed": false,
    "scrolled": true
   },
   "outputs": [
    {
     "name": "stdout",
     "output_type": "stream",
     "text": [
      "\n",
      "\u001b[41mS\u001b[0mFFF\n",
      "FHFH\n",
      "FFFH\n",
      "HFFG\n"
     ]
    }
   ],
   "source": [
    "obs = env.reset()\n",
    "env.render()\n",
    "done = False\n",
    "while not done:\n",
    "    act = np.argmax(Q[obs])\n",
    "    obs_new, r, done, _ = env.step(act)\n",
    "    obs = obs_new\n",
    "    # Not properly displayed on github. Uncomment locally.\n",
    "    # env.render()"
   ]
  },
  {
   "cell_type": "code",
   "execution_count": 5,
   "metadata": {
    "collapsed": false,
    "scrolled": false
   },
   "outputs": [],
   "source": [
    "env.close()\n",
    "# gym.upload('/tmp/frozen-lake', api_key='sk_1ocsn6B6SNqZK13Kxezg')"
   ]
  },
  {
   "cell_type": "code",
   "execution_count": 6,
   "metadata": {
    "collapsed": false,
    "deletable": true,
    "editable": true,
    "scrolled": false
   },
   "outputs": [
    {
     "name": "stdout",
     "output_type": "stream",
     "text": [
      "\n",
      "\u001b[41mS\u001b[0mFFF\n",
      "FHFH\n",
      "FFFH\n",
      "HFFG\n",
      "Q function:\n",
      "[[ 0.508  0.416  0.431  0.422]\n",
      " [ 0.359  0.32   0.355  0.461]\n",
      " [ 0.345  0.328  0.333  0.419]\n",
      " [ 0.304  0.231  0.309  0.39 ]\n",
      " [ 0.521  0.356  0.419  0.429]\n",
      " [ 1.     1.     1.     1.   ]\n",
      " [ 0.371  0.156  0.162  0.16 ]\n",
      " [ 1.     1.     1.     1.   ]\n",
      " [ 0.25   0.401  0.433  0.539]\n",
      " [ 0.443  0.591  0.466  0.401]\n",
      " [ 0.573  0.353  0.374  0.385]\n",
      " [ 1.     1.     1.     1.   ]\n",
      " [ 1.     1.     1.     1.   ]\n",
      " [ 0.539  0.542  0.728  0.453]\n",
      " [ 0.668  0.883  0.691  0.675]\n",
      " [ 1.     1.     1.     1.   ]]\n",
      "Value function:\n",
      "[[ 0.508  0.461  0.419  0.39 ]\n",
      " [ 0.521  1.     0.371  1.   ]\n",
      " [ 0.539  0.591  0.573  1.   ]\n",
      " [ 1.     0.728  0.883  1.   ]]\n",
      "Policy:\n",
      "[['L' 'U' 'U' 'U']\n",
      " ['L' 'L' 'L' 'L']\n",
      " ['U' 'D' 'L' 'L']\n",
      " ['L' 'R' 'D' 'L']]\n"
     ]
    }
   ],
   "source": [
    "# Visualization\n",
    "np.set_printoptions(precision=3, suppress=True)\n",
    "\n",
    "def disp_V(Q):\n",
    "    V = np.max(Q, axis=1)\n",
    "    print np.reshape(V, [4, 4])\n",
    "\n",
    "def disp_policy(Q):\n",
    "    mu = np.argmax(Q, axis=1)\n",
    "    mu = np.reshape(mu, [4, 4]).astype('str')\n",
    "    mu[mu == '0'] = 'L'\n",
    "    mu[mu == '1'] = 'D'\n",
    "    mu[mu == '2'] = 'R'\n",
    "    mu[mu == '3'] = 'U'\n",
    "    print mu\n",
    "\n",
    "env.reset()  \n",
    "env.render()\n",
    "print \"Q function:\"\n",
    "print Q\n",
    "\n",
    "print \"Value function:\"\n",
    "disp_V(Q)\n",
    "\n",
    "print \"Policy:\"\n",
    "disp_policy(Q)"
   ]
  },
  {
   "cell_type": "code",
   "execution_count": 7,
   "metadata": {
    "collapsed": false,
    "scrolled": false
   },
   "outputs": [
    {
     "data": {
      "image/png": "[encoded data removed]",
      "text/plain": [
       "<matplotlib.figure.Figure at 0x7f2d72254550>"
      ]
     },
     "metadata": {},
     "output_type": "display_data"
    }
   ],
   "source": [
    "from matplotlib import pyplot as plt\n",
    "\n",
    "%matplotlib inline\n",
    "plt.rcParams['figure.figsize'] = (8.0, 6.0) # set default size of plots\n",
    "plt.rcParams['font.size'] = 14\n",
    "plt.rcParams['image.cmap'] = 'gray'\n",
    "\n",
    "x = range(episodes + 1)\n",
    "means = np.array(means)\n",
    "stds = np.array(stds)\n",
    "\n",
    "# Plot.\n",
    "plt.plot(x, means, color='k', linewidth=3)\n",
    "plt.plot((0, episodes), (0.78, 0.78), 'g')\n",
    "plt.fill_between(x, means - stds, means + stds, alpha=0.1, color='k')\n",
    "plt.tight_layout()\n",
    "plt.grid(b=True, which='both', color='0.65',linestyle='-')\n",
    "\n",
    "plt.title(\"Learning performance\");"
   ]
  }
 ],
 "metadata": {
  "kernelspec": {
   "display_name": "Python 2",
   "language": "python",
   "name": "python2"
  },
  "language_info": {
   "codemirror_mode": {
    "name": "ipython",
    "version": 2
   },
   "file_extension": ".py",
   "mimetype": "text/x-python",
   "name": "python",
   "nbconvert_exporter": "python",
   "pygments_lexer": "ipython2",
   "version": "2.7.12"
  }
 },
 "nbformat": 4,
 "nbformat_minor": 2
}
