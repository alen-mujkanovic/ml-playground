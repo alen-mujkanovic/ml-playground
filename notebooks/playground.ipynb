{
 "cells": [
  {
   "cell_type": "code",
   "execution_count": 1,
   "metadata": {
    "scrolled": true
   },
   "outputs": [
    {
     "name": "stderr",
     "output_type": "stream",
     "text": [
      "Using TensorFlow backend.\n"
     ]
    },
    {
     "name": "stdout",
     "output_type": "stream",
     "text": [
      "[<tf.Variable 'dense_1/kernel:0' shape=(2, 1) dtype=float32_ref>, <tf.Variable 'dense_1/bias:0' shape=(1,) dtype=float32_ref>]\n",
      "[array([[-0.42016798, -0.58814007]], dtype=float32)]\n",
      "[array([[-0.42016798],\n",
      "       [-0.58814007]], dtype=float32), array([ 0.], dtype=float32)]\n"
     ]
    }
   ],
   "source": [
    "from keras.layers import Input, Dense, Activation\n",
    "from keras.models import Model\n",
    "from keras import optimizers\n",
    "import keras.backend as K\n",
    "import tensorflow as tf\n",
    "import numpy as np\n",
    "\n",
    "# y = 3 * x1 + 2 * x2\n",
    "x = Input(shape=(2,), name='x')\n",
    "out = Dense(1, activation='linear')(x)\n",
    "model = Model(inputs=x, outputs=out)\n",
    "\n",
    "w = model.trainable_weights\n",
    "print w\n",
    "\n",
    "opt = optimizers.Adam(0.1)\n",
    "model.compile(optimizer=opt,\n",
    "              loss='mse')\n",
    "\n",
    "grad = tf.gradients(out, x) \n",
    "sess = K.get_session()\n",
    "print sess.run(grad, {x : np.ones([1, 2])})\n",
    "print sess.run(w)"
   ]
  },
  {
   "cell_type": "code",
   "execution_count": 2,
   "metadata": {},
   "outputs": [],
   "source": [
    "x_train = np.random.rand(100, 2)\n",
    "y_train = x_train * np.matrix([[3], [2]])\n",
    "# model.fit(x_train, y_train, epochs=200, batch_size=100)\n",
    "y = tf.placeholder(tf.float32, [None, 1])\n",
    "loss = tf.losses.mean_squared_error(y, out)\n",
    "optim = tf.train.AdamOptimizer(0.1)#.minimize(loss)\n",
    "\n",
    "grads_and_vars = zip(tf.gradients(loss, w), w)\n",
    "op = optim.apply_gradients(grads_and_vars)\n",
    "sess.run(tf.global_variables_initializer())\n",
    "for i in range(10000):\n",
    "    sess.run(op, {x : x_train, y : y_train})\n",
    "    # grads_and_vars = optim.compute_gradients(loss, w)\n",
    "    \n",
    "\n",
    "#print sess.run(grad, {x : x_train})"
   ]
  },
  {
   "cell_type": "code",
   "execution_count": 3,
   "metadata": {},
   "outputs": [
    {
     "name": "stdout",
     "output_type": "stream",
     "text": [
      "[array([[ 2.99999285],\n",
      "       [ 1.99999249]], dtype=float32), array([ -7.31008549e-06], dtype=float32)]\n"
     ]
    }
   ],
   "source": [
    "print sess.run(w)"
   ]
  }
 ],
 "metadata": {
  "kernelspec": {
   "display_name": "Python 2",
   "language": "python",
   "name": "python2"
  },
  "language_info": {
   "codemirror_mode": {
    "name": "ipython",
    "version": 2
   },
   "file_extension": ".py",
   "mimetype": "text/x-python",
   "name": "python",
   "nbconvert_exporter": "python",
   "pygments_lexer": "ipython2",
   "version": "2.7.12"
  }
 },
 "nbformat": 4,
 "nbformat_minor": 2
}
