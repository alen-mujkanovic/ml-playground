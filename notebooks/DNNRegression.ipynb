{
 "cells": [
  {
   "cell_type": "code",
   "execution_count": 1,
   "metadata": {
    "collapsed": false,
    "deletable": true,
    "editable": true,
    "scrolled": true
   },
   "outputs": [],
   "source": [
    "# Used to clear up the workspace.\n",
    "%reset -f\n",
    "import numpy as np\n",
    "import pickle\n",
    "import tensorflow as tf\n",
    "from tensorflow.contrib.learn.python.learn.estimators import estimator\n",
    "from sklearn.model_selection import train_test_split\n",
    "from sklearn.metrics import mean_squared_error\n",
    "\n",
    "# Load the data.\n",
    "data = pickle.load(open('../data/data-ant.pkl', 'rb'))\n",
    "observations = data['observations']\n",
    "actions = data['actions']\n",
    "# We will only look at the first label column, since multiple regression is not supported for some reason...\n",
    "actions = actions[:, 0]\n",
    "\n",
    "# Split the data.\n",
    "X_train, X_test, y_train, y_test = train_test_split(observations, actions, test_size=10, random_state=42)\n",
    "\n",
    "num_train = X_train.shape[0]\n",
    "num_test = X_test.shape[0]"
   ]
  },
  {
   "cell_type": "code",
   "execution_count": 2,
   "metadata": {
    "collapsed": true,
    "deletable": true,
    "editable": true
   },
   "outputs": [],
   "source": [
    "def pred_fn(X):\n",
    "    return {str(\"my_col\" + str(k)): tf.constant(X[:, k][:, np.newaxis]) for k in range(X.shape[1])}\n",
    "\n",
    "def input_fn(X, y):\n",
    "    feature_cols = pred_fn(X)\n",
    "    label = tf.constant(y)\n",
    "    \n",
    "    return feature_cols, label"
   ]
  },
  {
   "cell_type": "code",
   "execution_count": 3,
   "metadata": {
    "collapsed": false,
    "deletable": true,
    "editable": true
   },
   "outputs": [],
   "source": [
    "feature_cols = [tf.contrib.layers.real_valued_column(str(\"my_col\") + str(i)) for i in range(X_train.shape[1])]\n",
    "# This does not work for some reason.\n",
    "#feature_cols = tf.contrib.learn.infer_real_valued_columns_from_input(X_train)"
   ]
  },
  {
   "cell_type": "code",
   "execution_count": 4,
   "metadata": {
    "collapsed": false,
    "deletable": true,
    "editable": true,
    "scrolled": true
   },
   "outputs": [
    {
     "name": "stdout",
     "output_type": "stream",
     "text": [
      "WARNING:tensorflow:Using temporary folder as model directory: /tmp/tmpidHt5x\n",
      "INFO:tensorflow:Using default config.\n",
      "INFO:tensorflow:Using config: {'_save_checkpoints_secs': 600, '_num_ps_replicas': 0, '_keep_checkpoint_max': 5, '_tf_random_seed': None, '_task_type': None, '_environment': 'local', '_is_chief': True, '_cluster_spec': <tensorflow.python.training.server_lib.ClusterSpec object at 0x7f9f37fe8350>, '_tf_config': gpu_options {\n",
      "  per_process_gpu_memory_fraction: 1.0\n",
      "}\n",
      ", '_task_id': 0, '_save_summary_steps': 100, '_save_checkpoints_steps': None, '_evaluation_master': '', '_keep_checkpoint_every_n_hours': 10000, '_master': ''}\n",
      "WARNING:tensorflow:From /usr/local/lib/python2.7/dist-packages/tensorflow/contrib/learn/python/learn/estimators/head.py:1362: scalar_summary (from tensorflow.python.ops.logging_ops) is deprecated and will be removed after 2016-11-30.\n",
      "Instructions for updating:\n",
      "Please switch to tf.summary.scalar. Note that tf.summary.scalar uses the node name instead of the tag. This means that TensorFlow will automatically de-duplicate summary names based on the scope they are created in. Also, passing a tensor or list of tags to a scalar summary op is no longer supported.\n",
      "INFO:tensorflow:Create CheckpointSaverHook.\n",
      "INFO:tensorflow:Saving checkpoints for 1 into /tmp/tmpidHt5x/model.ckpt.\n",
      "INFO:tensorflow:loss = 0.143963, step = 1\n",
      "INFO:tensorflow:global_step/sec: 1.11048\n",
      "INFO:tensorflow:loss = 0.0129359, step = 101\n",
      "INFO:tensorflow:global_step/sec: 1.10946\n",
      "INFO:tensorflow:loss = 0.00994792, step = 201\n",
      "INFO:tensorflow:global_step/sec: 1.48373\n",
      "INFO:tensorflow:loss = 0.0086202, step = 301\n",
      "INFO:tensorflow:global_step/sec: 1.41203\n",
      "INFO:tensorflow:loss = 0.0077492, step = 401\n",
      "INFO:tensorflow:global_step/sec: 1.48551\n",
      "INFO:tensorflow:loss = 0.00711447, step = 501\n",
      "INFO:tensorflow:global_step/sec: 1.48836\n",
      "INFO:tensorflow:loss = 0.00663014, step = 601\n",
      "INFO:tensorflow:global_step/sec: 1.47308\n",
      "INFO:tensorflow:loss = 0.00623549, step = 701\n",
      "INFO:tensorflow:global_step/sec: 1.46015\n",
      "INFO:tensorflow:loss = 0.00590518, step = 801\n",
      "INFO:tensorflow:Saving checkpoints for 817 into /tmp/tmpidHt5x/model.ckpt.\n",
      "INFO:tensorflow:global_step/sec: 1.42684\n",
      "INFO:tensorflow:loss = 0.0056193, step = 901\n",
      "INFO:tensorflow:Saving checkpoints for 1000 into /tmp/tmpidHt5x/model.ckpt.\n",
      "INFO:tensorflow:Loss for final step: 0.00537238.\n"
     ]
    }
   ],
   "source": [
    "regressor = tf.contrib.learn.DNNRegressor(feature_columns=feature_cols, hidden_units=[100, 100])\n",
    "\n",
    "regressor.fit(input_fn=lambda: input_fn(X_train, y_train), steps=1000);"
   ]
  },
  {
   "cell_type": "code",
   "execution_count": 5,
   "metadata": {
    "collapsed": false
   },
   "outputs": [
    {
     "name": "stdout",
     "output_type": "stream",
     "text": [
      "[0.39723414, -0.027354294, -0.061233871, -0.017296148, -0.37245646, 0.1132348, 0.1976911, -0.1596929, 0.38804257, 0.0017217866]\n",
      "[ 0.50300872  0.04458803 -0.07244712  0.00861396 -0.49456769 -0.03319729\n",
      "  0.18001977 -0.25375277  0.25746021 -0.05760179]\n",
      "0.00832451\n"
     ]
    }
   ],
   "source": [
    "pred = list(regressor.predict_scores(input_fn=lambda: pred_fn(X_test)))\n",
    "\n",
    "print pred\n",
    "print y_test\n",
    "print mean_squared_error(pred, y_test)"
   ]
  }
 ],
 "metadata": {
  "kernelspec": {
   "display_name": "Python 2",
   "language": "python",
   "name": "python2"
  },
  "language_info": {
   "codemirror_mode": {
    "name": "ipython",
    "version": 2
   },
   "file_extension": ".py",
   "mimetype": "text/x-python",
   "name": "python",
   "nbconvert_exporter": "python",
   "pygments_lexer": "ipython2",
   "version": "2.7.12"
  }
 },
 "nbformat": 4,
 "nbformat_minor": 2
}
